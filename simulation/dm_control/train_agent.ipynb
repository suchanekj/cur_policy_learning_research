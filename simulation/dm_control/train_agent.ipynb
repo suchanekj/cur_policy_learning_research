{
 "cells": [
  {
   "cell_type": "code",
   "execution_count": 1,
   "metadata": {
    "ExecuteTime": {
     "end_time": "2020-11-15T17:56:12.122857Z",
     "start_time": "2020-11-15T17:56:11.748490Z"
    }
   },
   "outputs": [],
   "source": [
    "import environments\n",
    "import numpy as np\n",
    "from dm_control import viewer"
   ]
  },
  {
   "cell_type": "code",
   "execution_count": 3,
   "metadata": {
    "ExecuteTime": {
     "end_time": "2020-11-15T17:58:52.101603Z",
     "start_time": "2020-11-15T17:56:44.131716Z"
    }
   },
   "outputs": [],
   "source": [
    "# load task and domain\n",
    "env = environments.load(domain_name='passive_hand', task_name='lift_sparse')\n",
    "\n",
    "action_spec = env.action_spec()\n",
    "\n",
    "def random_policy(time_step):\n",
    "    # Find random policy based on action_spec\n",
    "    return np.random.uniform(action_spec.minimum, action_spec.maximum, size=action_spec.shape)\n",
    "\n",
    "# Launch interactive viewer\n",
    "viewer.launch(env, policy=random_policy)"
   ]
  },
  {
   "cell_type": "code",
   "execution_count": 7,
   "metadata": {
    "ExecuteTime": {
     "end_time": "2020-11-14T18:30:09.218050Z",
     "start_time": "2020-11-14T18:30:09.206976Z"
    }
   },
   "outputs": [
    {
     "data": {
      "text/plain": [
       "OrderedDict([('grip_pos',\n",
       "              Array(shape=(3,), dtype=dtype('float64'), name='grip_pos')),\n",
       "             ('grip_velp',\n",
       "              Array(shape=(3,), dtype=dtype('float64'), name='grip_velp')),\n",
       "             ('grip_rot',\n",
       "              Array(shape=(3,), dtype=dtype('float64'), name='grip_rot')),\n",
       "             ('object_pos',\n",
       "              Array(shape=(3,), dtype=dtype('float64'), name='object_pos')),\n",
       "             ('object_rel_pos',\n",
       "              Array(shape=(3,), dtype=dtype('float64'), name='object_rel_pos')),\n",
       "             ('object_velp',\n",
       "              Array(shape=(3,), dtype=dtype('float64'), name='object_velp')),\n",
       "             ('object_velr',\n",
       "              Array(shape=(3,), dtype=dtype('float64'), name='object_velr'))])"
      ]
     },
     "execution_count": 7,
     "metadata": {},
     "output_type": "execute_result"
    }
   ],
   "source": [
    "env.observation_spec()"
   ]
  },
  {
   "cell_type": "code",
   "execution_count": 5,
   "metadata": {
    "ExecuteTime": {
     "end_time": "2020-11-14T17:59:14.700593Z",
     "start_time": "2020-11-14T17:59:14.691284Z"
    }
   },
   "outputs": [
    {
     "data": {
      "text/plain": [
       "BoundedArray(shape=(5,), dtype=dtype('float64'), name=None, minimum=-1.0, maximum=1.0)"
      ]
     },
     "execution_count": 5,
     "metadata": {},
     "output_type": "execute_result"
    }
   ],
   "source": [
    "action_spec"
   ]
  },
  {
   "cell_type": "code",
   "execution_count": null,
   "metadata": {},
   "outputs": [],
   "source": []
  }
 ],
 "metadata": {
  "kernelspec": {
   "display_name": "Python 3.6.10 64-bit ('rl': conda)",
   "language": "python",
   "name": "python361064bitrlconda66c8bc5abfd041dcb87b4e65206e9e66"
  },
  "language_info": {
   "codemirror_mode": {
    "name": "ipython",
    "version": 3
   },
   "file_extension": ".py",
   "mimetype": "text/x-python",
   "name": "python",
   "nbconvert_exporter": "python",
   "pygments_lexer": "ipython3",
   "version": "3.6.12"
  },
  "latex_envs": {
   "LaTeX_envs_menu_present": true,
   "autoclose": false,
   "autocomplete": true,
   "bibliofile": "biblio.bib",
   "cite_by": "apalike",
   "current_citInitial": 1,
   "eqLabelWithNumbers": true,
   "eqNumInitial": 1,
   "hotkeys": {
    "equation": "Ctrl-E",
    "itemize": "Ctrl-I"
   },
   "labels_anchors": false,
   "latex_user_defs": false,
   "report_style_numbering": false,
   "user_envs_cfg": false
  },
  "toc": {
   "base_numbering": 1,
   "nav_menu": {},
   "number_sections": true,
   "sideBar": true,
   "skip_h1_title": false,
   "title_cell": "Table of Contents",
   "title_sidebar": "Contents",
   "toc_cell": false,
   "toc_position": {},
   "toc_section_display": true,
   "toc_window_display": false
  }
 },
 "nbformat": 4,
 "nbformat_minor": 4
}
